{
 "cells": [
  {
   "cell_type": "code",
   "execution_count": 68,
   "metadata": {},
   "outputs": [],
   "source": [
    "import cv2\n",
    "import numpy as np\n",
    "image=cv2.imread(\"images/blobs.jpg\", 0)\n",
    "def circle(image):\n",
    "    img_gray = cv2.cvtColor(image, cv2.COLOR_BGR2GRAY)\n",
    "    img_gray_blur = cv2.GaussianBlur(img_gray, (5,5), 0)\n",
    "    \n",
    "    params = cv2.SimpleBlobDetector_Params()\n",
    "\n",
    "    # Set Area filtering parameters\n",
    "    params.filterByArea = True\n",
    "    params.minArea = 100\n",
    "\n",
    "    # Set Circularity filtering parameters\n",
    "    params.filterByCircularity = True \n",
    "    params.minCircularity = 0.2\n",
    "\n",
    "    # Set Convexity filtering parameters\n",
    "    params.filterByConvexity = True\n",
    "    params.minConvexity = 0.9\n",
    "\n",
    "    # Set inertia filtering parameters\n",
    "    params.filterByInertia = True\n",
    "    params.minInertiaRatio = 0.6\n",
    "\n",
    "    # Create a detector with the parameters\n",
    "    detector = cv2.SimpleBlobDetector_create(params)\n",
    "\n",
    "    # Detect blobs\n",
    "    keypoints = detector.detect(img_gray_blur)\n",
    "\n",
    "    # Draw blobs on our image as yellow circles\n",
    "    blank = np.zeros((1,1)) \n",
    "    blobs = cv2.drawKeypoints(image, keypoints, blank, (0,255,255),\n",
    "                                          cv2.DRAW_MATCHES_FLAGS_DRAW_RICH_KEYPOINTS)\n",
    "\n",
    "   \n",
    "    return blobs\n",
    "cap=cv2.VideoCapture(0)\n",
    "while True:\n",
    "    ret, frame=cap.read()\n",
    "    cv2.imshow(\"Circle detector\",cv2.resize(circle(frame), (1280, 1024)))\n",
    "    if cv2.waitKey(1) == 13: \n",
    "        break\n",
    "        \n",
    "cap.release()\n",
    "cv2.destroyAllWindows()  "
   ]
  },
  {
   "cell_type": "code",
   "execution_count": null,
   "metadata": {},
   "outputs": [],
   "source": []
  },
  {
   "cell_type": "code",
   "execution_count": null,
   "metadata": {},
   "outputs": [],
   "source": []
  }
 ],
 "metadata": {
  "kernelspec": {
   "display_name": "Python 3",
   "language": "python",
   "name": "python3"
  },
  "language_info": {
   "codemirror_mode": {
    "name": "ipython",
    "version": 3
   },
   "file_extension": ".py",
   "mimetype": "text/x-python",
   "name": "python",
   "nbconvert_exporter": "python",
   "pygments_lexer": "ipython3",
   "version": "3.8.5"
  }
 },
 "nbformat": 4,
 "nbformat_minor": 4
}
